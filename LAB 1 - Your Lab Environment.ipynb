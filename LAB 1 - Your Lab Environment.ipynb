{
 "cells": [
  {
   "cell_type": "markdown",
   "metadata": {
    "slideshow": {
     "slide_type": "-"
    }
   },
   "source": [
    "# LAB 1 - Getting to know your Lab Environment\n",
    "\n",
    "- You are currently looking at a [Juypter Notebook App](https://jupyter-notebook-beginner-guide.readthedocs.io/en/latest/what_is_jupyter.html) through a browser.\n",
    "- The Jupyter Notebook App will help you execute the various hands-on labs that make up our Tanzu Workshop.\n",
    "- To begin, let's get acquainted with the User Interface to the Jupyter Notebook App by executing a few simple steps."
   ]
  },
  {
   "cell_type": "markdown",
   "metadata": {},
   "source": [
    "## LAB 1a\n",
    "\n",
    "- Use your keyboard's arrow keys (or click on the box) to select the box below, then press `Shift-Enter` to execute the `cat /etc/*release` shell command. \n",
    "  - Note: the `!` exclamation mark indicates that you wish to execute a Linux Shell command. The specific command you will execute displays what version of Linux is being used by the Jupyter Notebook App to run your hands-on labs."
   ]
  },
  {
   "cell_type": "code",
   "execution_count": 11,
   "metadata": {
    "slideshow": {
     "slide_type": "subslide"
    }
   },
   "outputs": [
    {
     "name": "stdout",
     "output_type": "stream",
     "text": [
      "DISTRIB_ID=Ubuntu\r\n",
      "DISTRIB_RELEASE=18.04\r\n"
     ]
    }
   ],
   "source": [
    "!cat /etc/*release | head -n 2"
   ]
  },
  {
   "cell_type": "markdown",
   "metadata": {},
   "source": [
    "- You should see immediately above this text the results of the `cat /etc/*release` command.\n",
    "- Go back to the same box and execute the Linux Shell command again. Note what happens to the number in the `[ ]`.\n",
    "- Proceed to Lab 1b."
   ]
  },
  {
   "cell_type": "markdown",
   "metadata": {},
   "source": [
    "## LAB 1b\n",
    "\n",
    "- Let's learn a bit more about this Ubuntu 18.04 environment by executing the following command. \n",
    "  - Note: just as you did before, use `Shift-Enter` to execute the contents of the box below."
   ]
  },
  {
   "cell_type": "code",
   "execution_count": 10,
   "metadata": {},
   "outputs": [
    {
     "name": "stdout",
     "output_type": "stream",
     "text": [
      "14:name=systemd:/docker/f6f773409f47b8f508925529ff71263b016d82c306863ab7bdf1f258fe5f0e99\r\n",
      "13:rdma:/\r\n",
      "12:pids:/docker/f6f773409f47b8f508925529ff71263b016d82c306863ab7bdf1f258fe5f0e99\r\n",
      "11:hugetlb:/docker/f6f773409f47b8f508925529ff71263b016d82c306863ab7bdf1f258fe5f0e99\r\n",
      "10:net_prio:/docker/f6f773409f47b8f508925529ff71263b016d82c306863ab7bdf1f258fe5f0e99\r\n",
      "9:perf_event:/docker/f6f773409f47b8f508925529ff71263b016d82c306863ab7bdf1f258fe5f0e99\r\n",
      "8:net_cls:/docker/f6f773409f47b8f508925529ff71263b016d82c306863ab7bdf1f258fe5f0e99\r\n",
      "7:freezer:/docker/f6f773409f47b8f508925529ff71263b016d82c306863ab7bdf1f258fe5f0e99\r\n",
      "6:devices:/docker/f6f773409f47b8f508925529ff71263b016d82c306863ab7bdf1f258fe5f0e99\r\n",
      "5:memory:/docker/f6f773409f47b8f508925529ff71263b016d82c306863ab7bdf1f258fe5f0e99\r\n",
      "4:blkio:/docker/f6f773409f47b8f508925529ff71263b016d82c306863ab7bdf1f258fe5f0e99\r\n",
      "3:cpuacct:/docker/f6f773409f47b8f508925529ff71263b016d82c306863ab7bdf1f258fe5f0e99\r\n",
      "2:cpu:/docker/f6f773409f47b8f508925529ff71263b016d82c306863ab7bdf1f258fe5f0e99\r\n",
      "1:cpuset:/docker/f6f773409f47b8f508925529ff71263b016d82c306863ab7bdf1f258fe5f0e99\r\n"
     ]
    }
   ],
   "source": [
    "!cat /proc/1/cgroup"
   ]
  },
  {
   "cell_type": "markdown",
   "metadata": {},
   "source": [
    "- After executing the command shown above, if the word `kubepods` shows up in almost every line of the results, you have clear indication that you are executing Linux Shell commands in a container hosted inside a Kubernetes cluster.\n",
    "- However, if the word `docker` shows up in almost every line of the results, you have clear indication that you are executing Linux Shell commannds in a Docker Container which is running in a Virtual Machine (VM) located at the IP address your browser is pointing at.\n",
    "- If you don't see the words `docker` or `kubepods`, then you are simply running Linux Shell commands in a Linux VM."
   ]
  },
  {
   "cell_type": "markdown",
   "metadata": {},
   "source": [
    "## LAB 1c\n",
    "\n",
    "- Let's learn a bit more about this Ubuntu 18.04 environment by executing the following command. \n",
    "  - Note: just as you did before, use `Shift-Enter` to execute the contents of the box below."
   ]
  },
  {
   "cell_type": "code",
   "execution_count": 12,
   "metadata": {},
   "outputs": [
    {
     "name": "stdout",
     "output_type": "stream",
     "text": [
      "        inet 172.17.0.2  netmask 255.255.0.0  broadcast 172.17.255.255\r\n",
      "        inet 127.0.0.1  netmask 255.0.0.0\r\n"
     ]
    }
   ],
   "source": [
    "!ifconfig | grep inet"
   ]
  },
  {
   "cell_type": "code",
   "execution_count": null,
   "metadata": {},
   "outputs": [],
   "source": []
  }
 ],
 "metadata": {
  "kernelspec": {
   "display_name": "Python 3",
   "language": "python",
   "name": "python3"
  },
  "language_info": {
   "codemirror_mode": {
    "name": "ipython",
    "version": 3
   },
   "file_extension": ".py",
   "mimetype": "text/x-python",
   "name": "python",
   "nbconvert_exporter": "python",
   "pygments_lexer": "ipython3",
   "version": "3.6.7"
  }
 },
 "nbformat": 4,
 "nbformat_minor": 2
}
